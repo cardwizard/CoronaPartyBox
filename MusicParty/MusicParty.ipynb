{
 "cells": [
  {
   "cell_type": "code",
   "execution_count": 5,
   "metadata": {},
   "outputs": [
    {
     "name": "stdout",
     "output_type": "stream",
     "text": [
      "pygame 1.9.6\n",
      "Hello from the pygame community. https://www.pygame.org/contribute.html\n"
     ]
    }
   ],
   "source": [
    "from pygame import mixer\n",
    "from pynput.keyboard import Key, Listener, KeyCode\n",
    "\n",
    "import time"
   ]
  },
  {
   "cell_type": "code",
   "execution_count": 6,
   "metadata": {},
   "outputs": [],
   "source": [
    "mixer.init()"
   ]
  },
  {
   "cell_type": "code",
   "execution_count": 7,
   "metadata": {},
   "outputs": [],
   "source": [
    "def establish_listener(sound_files, keycodes):\n",
    "    \n",
    "    def on_press(key):\n",
    "        # Global start!\n",
    "        \n",
    "        if key == Key.enter:\n",
    "            for channel in range(len(sound_files)):\n",
    "                mixer.Channel(channel).play(mixer.Sound(sound_files[channel]), -1)\n",
    "                mixer.Channel(channel).pause()\n",
    "        \n",
    "        for id, keycode in enumerate(keycodes):\n",
    "            if key == keycode:\n",
    "                mixer.Channel(id).unpause()\n",
    "\n",
    "    def on_release(key):\n",
    "        for id, keycode in enumerate(keycodes):\n",
    "            if key == keycode:\n",
    "                mixer.Channel(id).pause()\n",
    "\n",
    "        if key == Key.esc:\n",
    "            # Stop listener\n",
    "            return False\n",
    "\n",
    "    # Collect events until released\n",
    "    with Listener(\n",
    "            on_press=on_press,\n",
    "            on_release=on_release) as listener:\n",
    "        listener.join()\n"
   ]
  },
  {
   "cell_type": "code",
   "execution_count": 9,
   "metadata": {},
   "outputs": [],
   "source": [
    "establish_listener([\"FastBeat.wav\", \"Bass.wav\"], [Key.left, Key.right])"
   ]
  },
  {
   "cell_type": "code",
   "execution_count": null,
   "metadata": {},
   "outputs": [],
   "source": []
  }
 ],
 "metadata": {
  "kernelspec": {
   "display_name": "Python 3",
   "language": "python",
   "name": "python3"
  },
  "language_info": {
   "codemirror_mode": {
    "name": "ipython",
    "version": 3
   },
   "file_extension": ".py",
   "mimetype": "text/x-python",
   "name": "python",
   "nbconvert_exporter": "python",
   "pygments_lexer": "ipython3",
   "version": "3.7.4"
  }
 },
 "nbformat": 4,
 "nbformat_minor": 2
}
