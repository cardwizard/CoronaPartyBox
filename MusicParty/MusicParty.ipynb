{
 "cells": [
  {
   "cell_type": "code",
   "execution_count": 1,
   "metadata": {},
   "outputs": [
    {
     "name": "stdout",
     "output_type": "stream",
     "text": [
      "pygame 1.9.6\n",
      "Hello from the pygame community. https://www.pygame.org/contribute.html\n"
     ]
    }
   ],
   "source": [
    "from pygame import mixer\n",
    "from pynput.keyboard import Key, Listener, KeyCode\n",
    "\n",
    "import random\n",
    "import time"
   ]
  },
  {
   "cell_type": "code",
   "execution_count": 2,
   "metadata": {},
   "outputs": [],
   "source": [
    "mixer.init()"
   ]
  },
  {
   "cell_type": "code",
   "execution_count": 3,
   "metadata": {},
   "outputs": [],
   "source": [
    "def establish_listener(sound_files, keycodes):\n",
    "    \n",
    "    def on_press(key):\n",
    "        # Global start!\n",
    "        \n",
    "        if key == Key.enter:\n",
    "            for channel in range(len(sound_files)):\n",
    "                mixer.Channel(channel).play(mixer.Sound(sound_files[channel]), -1)\n",
    "                mixer.Channel(channel).pause()\n",
    "        \n",
    "        for id, keycode in enumerate(keycodes):\n",
    "            if key == keycode:\n",
    "                mixer.Channel(id).unpause()\n",
    "\n",
    "    def on_release(key):\n",
    "        for id, keycode in enumerate(keycodes):\n",
    "            if key == keycode:\n",
    "                mixer.Channel(id).pause()\n",
    "                # Change player:\n",
    "                \n",
    "        if key == Key.esc:\n",
    "            # Stop listener\n",
    "            return False\n",
    "\n",
    "    # Collect events until released\n",
    "    with Listener(\n",
    "            on_press=on_press,\n",
    "            on_release=on_release) as listener:\n",
    "        listener.join()\n"
   ]
  },
  {
   "cell_type": "code",
   "execution_count": 4,
   "metadata": {},
   "outputs": [],
   "source": [
    "establish_listener([\"FastBeat.wav\", \"Bass.wav\"], [Key.left, Key.right])"
   ]
  },
  {
   "cell_type": "code",
   "execution_count": 5,
   "metadata": {},
   "outputs": [],
   "source": [
    "def establish_listener_type_2(sound_file, keycodes, start, players):\n",
    "    \n",
    "    def on_press(key):\n",
    "        current_turn = start[0]\n",
    "        \n",
    "        if key == Key.enter:            \n",
    "            mixer.Channel(0).play(mixer.Sound(sound_file), -1)\n",
    "            mixer.Channel(0).pause()\n",
    "        \n",
    "        if key == keycodes[current_turn]:\n",
    "            mixer.Channel(0).unpause()\n",
    "        \n",
    "    def on_release(key):\n",
    "        \n",
    "        current_turn = start[0]\n",
    "        \n",
    "        if key == keycodes[current_turn]:\n",
    "            start[0] = random.randint(0, len(players)-1)\n",
    "            current_turn = start[0]\n",
    "            \n",
    "            mixer.Channel(0).pause()\n",
    "            \n",
    "            # Change player:\n",
    "            print(\"Turn: \", players[(current_turn) % len(players)])\n",
    "            \n",
    "        if key == Key.esc:\n",
    "            # Stop listener\n",
    "            return False\n",
    "    \n",
    "    # Collect events until released\n",
    "    with Listener(\n",
    "            on_press=on_press,\n",
    "            on_release=on_release) as listener:\n",
    "        listener.join()\n",
    "    "
   ]
  },
  {
   "cell_type": "code",
   "execution_count": 6,
   "metadata": {},
   "outputs": [
    {
     "name": "stdout",
     "output_type": "stream",
     "text": [
      "Turn:  Player 1\n",
      "Turn:  Player 2\n",
      "Turn:  Player 1\n",
      "Turn:  Player 3\n",
      "Turn:  Player 1\n",
      "Turn:  Player 2\n"
     ]
    }
   ],
   "source": [
    "establish_listener_type_2(\"la-casa-de-papel-theme-song.wav\", \n",
    "                          [Key.left, Key.right, Key.up, Key.down], [0], \n",
    "                          [\"Player 1\", \"Player 2\", \"Player 3\", \"Player 4\"])"
   ]
  },
  {
   "cell_type": "code",
   "execution_count": null,
   "metadata": {},
   "outputs": [],
   "source": [
    "\n",
    "\n",
    "random.seed(10)\n",
    "random.randint(0, 2)\n"
   ]
  },
  {
   "cell_type": "code",
   "execution_count": 1,
   "metadata": {},
   "outputs": [],
   "source": [
    "from requests import post"
   ]
  },
  {
   "cell_type": "code",
   "execution_count": 18,
   "metadata": {},
   "outputs": [],
   "source": [
    "response = post(\"http://localhost:5000/start_game\")"
   ]
  },
  {
   "cell_type": "code",
   "execution_count": 19,
   "metadata": {},
   "outputs": [
    {
     "data": {
      "text/plain": [
       "<Response [200]>"
      ]
     },
     "execution_count": 19,
     "metadata": {},
     "output_type": "execute_result"
    }
   ],
   "source": [
    "response"
   ]
  },
  {
   "cell_type": "code",
   "execution_count": 22,
   "metadata": {},
   "outputs": [
    {
     "data": {
      "text/plain": [
       "<Response [200]>"
      ]
     },
     "execution_count": 22,
     "metadata": {},
     "output_type": "execute_result"
    }
   ],
   "source": [
    "post(\"http://localhost:5000/play\")"
   ]
  },
  {
   "cell_type": "code",
   "execution_count": 23,
   "metadata": {},
   "outputs": [
    {
     "data": {
      "text/plain": [
       "<Response [200]>"
      ]
     },
     "execution_count": 23,
     "metadata": {},
     "output_type": "execute_result"
    }
   ],
   "source": [
    "post(\"http://localhost:5000/pause\")"
   ]
  },
  {
   "cell_type": "code",
   "execution_count": 28,
   "metadata": {},
   "outputs": [
    {
     "data": {
      "text/plain": [
       "<Response [200]>"
      ]
     },
     "execution_count": 28,
     "metadata": {},
     "output_type": "execute_result"
    }
   ],
   "source": [
    "post(\"http://localhost:5000/register_player\", json={\"name\": \"Aadesh\"})"
   ]
  },
  {
   "cell_type": "code",
   "execution_count": null,
   "metadata": {},
   "outputs": [],
   "source": []
  }
 ],
 "metadata": {
  "kernelspec": {
   "display_name": "Python 3",
   "language": "python",
   "name": "python3"
  },
  "language_info": {
   "codemirror_mode": {
    "name": "ipython",
    "version": 3
   },
   "file_extension": ".py",
   "mimetype": "text/x-python",
   "name": "python",
   "nbconvert_exporter": "python",
   "pygments_lexer": "ipython3",
   "version": "3.7.4"
  }
 },
 "nbformat": 4,
 "nbformat_minor": 2
}
